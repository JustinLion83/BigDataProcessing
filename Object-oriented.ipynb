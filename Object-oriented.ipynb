{
 "cells": [
  {
   "cell_type": "markdown",
   "metadata": {},
   "source": [
    "    Python使用類(class)和物件(object)，進行物件導向（object-oriented programming，簡稱OOP)\n",
    "    最主要目的是提高程式的重複使用性。"
   ]
  },
  {
   "cell_type": "markdown",
   "metadata": {},
   "source": [
    "### 在人類認知中，會根據屬性相近把東西歸類，並且給類別命名。\n",
    "    比如說，鳥類的共同屬性是有羽毛，通過產卵生育後代。任何一隻特別的鳥都在鳥類的原型基礎上的。\n",
    "\n",
    "### 在Python語言，我們把上面說的“東西”稱為物件（object）。"
   ]
  },
  {
   "cell_type": "code",
   "execution_count": 1,
   "metadata": {},
   "outputs": [],
   "source": [
    "# 先定義鳥類\n",
    "class Bird(object):\n",
    "    have_feather = True\n",
    "    way_of_reproduction  = 'egg'"
   ]
  },
  {
   "cell_type": "markdown",
   "metadata": {},
   "source": [
    "# 我們定義了一個類別（class），就是鳥（Bird）。\n",
    "    在隸屬於這個類比的語句塊中，我們定義了兩個變數\n",
    "    一個是有羽毛（have_feather），一個是生殖方式（way_of_reproduction）\n",
    "    這兩個變數對應我們剛才說的屬性（attribute）。"
   ]
  },
  {
   "cell_type": "code",
   "execution_count": 2,
   "metadata": {},
   "outputs": [
    {
     "name": "stdout",
     "output_type": "stream",
     "text": [
      "egg\n"
     ]
    }
   ],
   "source": [
    "'''\n",
    "假設我養了一隻小雞，叫summer。它是個物件，且屬於鳥類。使用前面定義的類：\n",
    "'''\n",
    "summer = Bird()\n",
    "print(summer.way_of_reproduction)"
   ]
  },
  {
   "cell_type": "markdown",
   "metadata": {},
   "source": [
    "    通過第一句建立物件，並說明summer是類別鳥中的一個物件，summer就有了鳥的類屬性，對屬性的引用是通過 物件.屬性（object.attribute） 的形式實現的。"
   ]
  },
  {
   "cell_type": "markdown",
   "metadata": {},
   "source": [
    "# 動作\n",
    "\n",
    "    日常認知中，我們在通過屬性識別類別的時候，有時根據這個東西能做什麼事情來區分類別。\n",
    "    比如說，鳥會移動。這樣，鳥就和房屋的類別區分開了。\n",
    "    這些動作會帶來一定的結果，比如移動導致位置的變化。\n",
    "\n",
    "    這樣的一些“行為”屬性就是方法（method）。\n",
    "    Python中通過在類的內部定義函式，來說明方法。"
   ]
  },
  {
   "cell_type": "code",
   "execution_count": 6,
   "metadata": {},
   "outputs": [
    {
     "name": "stdout",
     "output_type": "stream",
     "text": [
      "after move: [5, 8]\n"
     ]
    }
   ],
   "source": [
    "class Bird(object):\n",
    "    have_feather = True\n",
    "    way_of_reproduction = 'egg'\n",
    "    def move(self, dx, dy):\n",
    "        position = [0,0]\n",
    "        position[0] = position[0] + dx\n",
    "        position[1] = position[1] + dy\n",
    "        return position\n",
    "\n",
    "summer = Bird()\n",
    "print ('after move:',summer.move(5,8))"
   ]
  },
  {
   "cell_type": "markdown",
   "metadata": {},
   "source": [
    "### 我們重新定義了鳥這個類別。鳥新增一個方法屬性，就是表示移動的方法move。(可以在看過下一小節之後做些改進）\n",
    "\n",
    "    它的引數中有一個self，它是為了方便我們引用物件自身。方法的第一個引數必須是self，無論是否用到。\n",
    "    有關self的內容會在下一小節展開\n",
    "\n",
    "    另外兩個引數，dx, dy表示在x、y兩個方向移動的距離。move方法會最終返回運算過的position。\n",
    "\n",
    "    在最後呼叫move方法的時候，我們只傳遞了dx和dy，不需傳遞self引數（self只是為了內部使用）。"
   ]
  },
  {
   "cell_type": "markdown",
   "metadata": {},
   "source": [
    "# 子類\n",
    "\n",
    "    類別本身還可以進一步細分成子類\n",
    "\n",
    "    比如說，鳥類可以進一步分成雞，大雁，黃鸝。\n",
    "\n",
    "    在OOP中，我們通過繼承(inheritance)來表達上述概念。"
   ]
  },
  {
   "cell_type": "code",
   "execution_count": 8,
   "metadata": {},
   "outputs": [
    {
     "name": "stdout",
     "output_type": "stream",
     "text": [
      "True\n",
      "[5, 8]\n"
     ]
    }
   ],
   "source": [
    "class Chicken(Bird):\n",
    "    way_of_move = 'walk'\n",
    "    possible_in_KFC = True\n",
    "\n",
    "class Oriole(Bird):\n",
    "    way_of_move = 'fly'\n",
    "    possible_in_KFC = False\n",
    "\n",
    "summer = Chicken()\n",
    "print (summer.have_feather)\n",
    "print (summer.move(5,8))"
   ]
  },
  {
   "cell_type": "markdown",
   "metadata": {},
   "source": [
    "## 新定義的雞（Chicken）類的，增加了兩個屬性：移動方式（way_of_move），可能在KFC找到（possible_in_KFC）\n",
    "\n",
    "    在類定義時，括號裡為Bird。這說明，Chicken是屬於鳥類（Bird）的一個子類\n",
    "    也就是說Chicken繼承了Bird。自然而然，Bird就是Chicken的父類。Chicken將享有Bird的所有屬性。\n",
    "    儘管只宣告了summer是雞類，它通過繼承享有了父類的屬性\n",
    "    無論是變數屬性have_feather還是方法屬性move\n",
    "\n",
    "    新定義的黃鸝(Oriole)類，同樣繼承自鳥類。在建立一個黃鸝物件時，該物件自動擁有鳥類的屬性。\n",
    "\n",
    "## 通過繼承製度，我們可以減少程式中的重複資訊和重複語句。\n",
    "    如果我們分別定義兩個類，而不繼承自鳥類，就必須把鳥類的屬性分別輸入到雞類和黃鸝類的定義中。\n",
    "    整個過程會變得繁瑣，因此，物件導向提高了程式的可重複使用性。"
   ]
  },
  {
   "cell_type": "markdown",
   "metadata": {},
   "source": [
    "# 總結\n",
    "\n",
    "    將東西根據屬性歸類 ( 將object歸為class )\n",
    "\n",
    "    方法是一種屬性，表示動作\n",
    "\n",
    "    用繼承來說明父類-子類關係。子類自動具有父類的所有屬性。\n",
    "\n",
    "    self代表了根據類定義而建立的物件。\n",
    "\n",
    "    建立對一個物件： 物件名 = 類名()\n",
    "\n",
    "    引用物件的屬性： object.attribute"
   ]
  }
 ],
 "metadata": {
  "kernelspec": {
   "display_name": "Python 3",
   "language": "python",
   "name": "python3"
  },
  "language_info": {
   "codemirror_mode": {
    "name": "ipython",
    "version": 3
   },
   "file_extension": ".py",
   "mimetype": "text/x-python",
   "name": "python",
   "nbconvert_exporter": "python",
   "pygments_lexer": "ipython3",
   "version": "3.7.1"
  }
 },
 "nbformat": 4,
 "nbformat_minor": 2
}
